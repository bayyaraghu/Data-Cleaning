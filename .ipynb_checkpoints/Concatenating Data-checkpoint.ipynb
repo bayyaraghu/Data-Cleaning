{
 "cells": [
  {
   "cell_type": "code",
   "execution_count": 11,
   "metadata": {},
   "outputs": [
    {
     "name": "stdout",
     "output_type": "stream",
     "text": [
      "{'Date': [1979, 1979], 'Element': ['tmax', 'tmin'], 'value': [27.8, 14.5]}\n",
      "{'Date': [1979, 1979], 'Element': ['tmax', 'tmin'], 'value': [27.3, 14.4]}\n"
     ]
    },
    {
     "data": {
      "text/plain": [
       "dict"
      ]
     },
     "execution_count": 11,
     "metadata": {},
     "output_type": "execute_result"
    }
   ],
   "source": [
    "# Concatenating Data\n",
    "# Creating dictionary\n",
    "\n",
    "temperature1 = {\"Date\" : [2010-1-30, 2010-1-30],\n",
    "               \"Element\":[\"tmax\", \"tmin\"],\n",
    "                \"value\":[27.8, 14.5]}\n",
    "\n",
    "\n",
    "temperature2 = {\"Date\" : [2010-1-30, 2010-1-30],\n",
    "               \"Element\":[\"tmax\", \"tmin\"],\n",
    "                \"value\":[27.3, 14.4]}\n",
    "\n",
    "print(temperature1)\n",
    "print(temperature2)\n",
    "type(temperature1)"
   ]
  },
  {
   "cell_type": "code",
   "execution_count": 14,
   "metadata": {},
   "outputs": [
    {
     "name": "stdout",
     "output_type": "stream",
     "text": [
      "   Date Element  value\n",
      "0  1979    tmax   27.8\n",
      "1  1979    tmin   14.5\n",
      "   Date Element  value\n",
      "0  1979    tmax   27.3\n",
      "1  1979    tmin   14.4\n"
     ]
    }
   ],
   "source": [
    "import pandas as pd\n",
    "\n",
    "temp_data1 = pd.DataFrame(temperature1)\n",
    "temp_data2 = pd.DataFrame(temperature2)\n",
    "\n",
    "print(temp_data1)\n",
    "print(temp_data2)"
   ]
  },
  {
   "cell_type": "code",
   "execution_count": 15,
   "metadata": {},
   "outputs": [
    {
     "name": "stdout",
     "output_type": "stream",
     "text": [
      "   Date Element  value\n",
      "0  1979    tmax   27.8\n",
      "1  1979    tmin   14.5\n",
      "0  1979    tmax   27.3\n",
      "1  1979    tmin   14.4\n"
     ]
    }
   ],
   "source": [
    "temp_concat = pd.concat([temp_data1, temp_data2])\n",
    "\n",
    "print(temp_concat)"
   ]
  },
  {
   "cell_type": "code",
   "execution_count": null,
   "metadata": {},
   "outputs": [],
   "source": []
  }
 ],
 "metadata": {
  "kernelspec": {
   "display_name": "Python 3",
   "language": "python",
   "name": "python3"
  },
  "language_info": {
   "codemirror_mode": {
    "name": "ipython",
    "version": 3
   },
   "file_extension": ".py",
   "mimetype": "text/x-python",
   "name": "python",
   "nbconvert_exporter": "python",
   "pygments_lexer": "ipython3",
   "version": "3.7.4"
  }
 },
 "nbformat": 4,
 "nbformat_minor": 2
}

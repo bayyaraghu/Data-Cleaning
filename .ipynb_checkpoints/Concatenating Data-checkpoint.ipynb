{
 "cells": [
  {
   "cell_type": "code",
   "execution_count": 11,
   "metadata": {},
   "outputs": [
    {
     "name": "stdout",
     "output_type": "stream",
     "text": [
      "{'Date': [1979, 1979], 'Element': ['tmax', 'tmin'], 'value': [27.8, 14.5]}\n",
      "{'Date': [1979, 1979], 'Element': ['tmax', 'tmin'], 'value': [27.3, 14.4]}\n"
     ]
    },
    {
     "data": {
      "text/plain": [
       "dict"
      ]
     },
     "execution_count": 11,
     "metadata": {},
     "output_type": "execute_result"
    }
   ],
   "source": [
    "# Concatenating Data\n",
    "# Creating dictionary\n",
    "\n",
    "temperature1 = {\"Date\" : [2010-1-30, 2010-1-30],\n",
    "               \"Element\":[\"tmax\", \"tmin\"],\n",
    "                \"value\":[27.8, 14.5]}\n",
    "\n",
    "\n",
    "temperature2 = {\"Date\" : [2010-1-30, 2010-1-30],\n",
    "               \"Element\":[\"tmax\", \"tmin\"],\n",
    "                \"value\":[27.3, 14.4]}\n",
    "\n",
    "print(temperature1)\n",
    "print(temperature2)\n",
    "type(temperature1)"
   ]
  },
  {
   "cell_type": "code",
   "execution_count": 14,
   "metadata": {},
   "outputs": [
    {
     "name": "stdout",
     "output_type": "stream",
     "text": [
      "   Date Element  value\n",
      "0  1979    tmax   27.8\n",
      "1  1979    tmin   14.5\n",
      "   Date Element  value\n",
      "0  1979    tmax   27.3\n",
      "1  1979    tmin   14.4\n"
     ]
    }
   ],
   "source": [
    "import pandas as pd\n",
    "\n",
    "temp_data1 = pd.DataFrame(temperature1)\n",
    "temp_data2 = pd.DataFrame(temperature2)\n",
    "\n",
    "print(temp_data1)\n",
    "print(temp_data2)"
   ]
  },
  {
   "cell_type": "code",
   "execution_count": 16,
   "metadata": {},
   "outputs": [
    {
     "name": "stdout",
     "output_type": "stream",
     "text": [
      "   Date Element  value\n",
      "0  1979    tmax   27.8\n",
      "1  1979    tmin   14.5\n",
      "2  1979    tmax   27.3\n",
      "3  1979    tmin   14.4\n"
     ]
    }
   ],
   "source": [
    "temp_concat = pd.concat([temp_data1, temp_data2], ignore_index=True)\n",
    "\n",
    "print(temp_concat)"
   ]
  },
  {
   "cell_type": "code",
   "execution_count": 18,
   "metadata": {},
   "outputs": [
    {
     "name": "stdout",
     "output_type": "stream",
     "text": [
      "{'Country': ['AD', 'AE', 'AF', 'AD', 'AE', 'AF'], 'Year': [2000, 2000, 2002, 2006, 2009, 2017], 'Variable': ['m014', 'm014', 'm014', 'm1524', 'm1524', 'm1524'], 'Value': [0, 2, 52, 0, 4, 228]}\n",
      "{'Age_group': [14, 14, 14, 24, 26, 27], 'Sex': ['m', 'm', 'f', 'm', 'f', 'f']}\n"
     ]
    }
   ],
   "source": [
    "# Concatenating dataFrames\n",
    "\n",
    "# First we will first create the dictionary then we convert it into Dataframe\n",
    "\n",
    "person = {\"Country\":[\"AD\", \"AE\", \"AF\", \"AD\", \"AE\", \"AF\"],\n",
    "          \"Year\":[2000, 2000, 2002, 2006, 2009, 2017],\n",
    "          \"Variable\": [\"m014\", \"m014\", \"m014\", \"m1524\", \"m1524\", \"m1524\"],\n",
    "          \"Value\": [0, 2, 52, 0, 4, 228]}\n",
    "print(person)\n",
    "\n",
    "detail = {\"Age_group\":[14, 14, 14, 24, 26, 27],\n",
    "           \"Sex\":[\"m\", \"m\", \"f\", \"m\", \"f\", \"f\"]}\n",
    "print(detail)"
   ]
  },
  {
   "cell_type": "code",
   "execution_count": 19,
   "metadata": {},
   "outputs": [
    {
     "name": "stdout",
     "output_type": "stream",
     "text": [
      "  Country  Year Variable  Value\n",
      "0      AD  2000     m014      0\n",
      "1      AE  2000     m014      2\n",
      "2      AF  2002     m014     52\n",
      "3      AD  2006    m1524      0\n",
      "4      AE  2009    m1524      4\n",
      "5      AF  2017    m1524    228\n",
      "   Age_group Sex\n",
      "0         14   m\n",
      "1         14   m\n",
      "2         14   f\n",
      "3         24   m\n",
      "4         26   f\n",
      "5         27   f\n"
     ]
    }
   ],
   "source": [
    "person1 = pd.DataFrame(person)\n",
    "detail1 = pd.DataFrame(detail)\n",
    "\n",
    "print(person1)\n",
    "print(detail1)"
   ]
  },
  {
   "cell_type": "code",
   "execution_count": 23,
   "metadata": {},
   "outputs": [
    {
     "name": "stdout",
     "output_type": "stream",
     "text": [
      "  Country  Year Variable  Value  Age_group Sex\n",
      "0      AD  2000     m014      0         14   m\n",
      "1      AE  2000     m014      2         14   m\n",
      "2      AF  2002     m014     52         14   f\n",
      "3      AD  2006    m1524      0         24   m\n",
      "4      AE  2009    m1524      4         26   f\n",
      "5      AF  2017    m1524    228         27   f\n"
     ]
    }
   ],
   "source": [
    "# Important : Axis=0, to stake the dataframe on teop of each other, Axis=1, to place the dataframe side by side.\n",
    "person_detail = pd.concat([person1, detail1], axis=1)\n",
    "\n",
    "print(person_detail)\n"
   ]
  },
  {
   "cell_type": "code",
   "execution_count": 30,
   "metadata": {},
   "outputs": [
    {
     "data": {
      "text/html": [
       "<div>\n",
       "<style scoped>\n",
       "    .dataframe tbody tr th:only-of-type {\n",
       "        vertical-align: middle;\n",
       "    }\n",
       "\n",
       "    .dataframe tbody tr th {\n",
       "        vertical-align: top;\n",
       "    }\n",
       "\n",
       "    .dataframe thead th {\n",
       "        text-align: right;\n",
       "    }\n",
       "</style>\n",
       "<table border=\"1\" class=\"dataframe\">\n",
       "  <thead>\n",
       "    <tr style=\"text-align: right;\">\n",
       "      <th></th>\n",
       "      <th>Country</th>\n",
       "      <th>Year</th>\n",
       "      <th>Variable</th>\n",
       "      <th>Value</th>\n",
       "      <th>Age_group</th>\n",
       "      <th>Sex</th>\n",
       "    </tr>\n",
       "  </thead>\n",
       "  <tbody>\n",
       "    <tr>\n",
       "      <td>2</td>\n",
       "      <td>AF</td>\n",
       "      <td>2002</td>\n",
       "      <td>m014</td>\n",
       "      <td>52</td>\n",
       "      <td>14</td>\n",
       "      <td>f</td>\n",
       "    </tr>\n",
       "    <tr>\n",
       "      <td>4</td>\n",
       "      <td>AE</td>\n",
       "      <td>2009</td>\n",
       "      <td>m1524</td>\n",
       "      <td>4</td>\n",
       "      <td>26</td>\n",
       "      <td>f</td>\n",
       "    </tr>\n",
       "    <tr>\n",
       "      <td>5</td>\n",
       "      <td>AF</td>\n",
       "      <td>2017</td>\n",
       "      <td>m1524</td>\n",
       "      <td>228</td>\n",
       "      <td>27</td>\n",
       "      <td>f</td>\n",
       "    </tr>\n",
       "  </tbody>\n",
       "</table>\n",
       "</div>"
      ],
      "text/plain": [
       "  Country  Year Variable  Value  Age_group Sex\n",
       "2      AF  2002     m014     52         14   f\n",
       "4      AE  2009    m1524      4         26   f\n",
       "5      AF  2017    m1524    228         27   f"
      ]
     },
     "execution_count": 30,
     "metadata": {},
     "output_type": "execute_result"
    }
   ],
   "source": [
    "person_detail[person_detail.Value > 2]"
   ]
  },
  {
   "cell_type": "code",
   "execution_count": null,
   "metadata": {},
   "outputs": [],
   "source": []
  }
 ],
 "metadata": {
  "kernelspec": {
   "display_name": "Python 3",
   "language": "python",
   "name": "python3"
  },
  "language_info": {
   "codemirror_mode": {
    "name": "ipython",
    "version": 3
   },
   "file_extension": ".py",
   "mimetype": "text/x-python",
   "name": "python",
   "nbconvert_exporter": "python",
   "pygments_lexer": "ipython3",
   "version": "3.7.4"
  }
 },
 "nbformat": 4,
 "nbformat_minor": 2
}

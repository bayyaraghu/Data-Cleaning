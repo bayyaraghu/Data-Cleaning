{
 "cells": [
  {
   "cell_type": "code",
   "execution_count": 11,
   "metadata": {},
   "outputs": [
    {
     "name": "stdout",
     "output_type": "stream",
     "text": [
      "{'Date': [1979, 1979], 'Element': ['tmax', 'tmin'], 'value': [27.8, 14.5]}\n",
      "{'Date': [1979, 1979], 'Element': ['tmax', 'tmin'], 'value': [27.3, 14.4]}\n"
     ]
    },
    {
     "data": {
      "text/plain": [
       "dict"
      ]
     },
     "execution_count": 11,
     "metadata": {},
     "output_type": "execute_result"
    }
   ],
   "source": [
    "# Concatenating Data\n",
    "# Creating dictionary\n",
    "\n",
    "temperature1 = {\"Date\" : [2010-1-30, 2010-1-30],\n",
    "               \"Element\":[\"tmax\", \"tmin\"],\n",
    "                \"value\":[27.8, 14.5]}\n",
    "\n",
    "\n",
    "temperature2 = {\"Date\" : [2010-1-30, 2010-1-30],\n",
    "               \"Element\":[\"tmax\", \"tmin\"],\n",
    "                \"value\":[27.3, 14.4]}\n",
    "\n",
    "print(temperature1)\n",
    "print(temperature2)\n",
    "type(temperature1)"
   ]
  },
  {
   "cell_type": "code",
   "execution_count": 14,
   "metadata": {},
   "outputs": [
    {
     "name": "stdout",
     "output_type": "stream",
     "text": [
      "   Date Element  value\n",
      "0  1979    tmax   27.8\n",
      "1  1979    tmin   14.5\n",
      "   Date Element  value\n",
      "0  1979    tmax   27.3\n",
      "1  1979    tmin   14.4\n"
     ]
    }
   ],
   "source": [
    "import pandas as pd\n",
    "\n",
    "temp_data1 = pd.DataFrame(temperature1)\n",
    "temp_data2 = pd.DataFrame(temperature2)\n",
    "\n",
    "print(temp_data1)\n",
    "print(temp_data2)"
   ]
  },
  {
   "cell_type": "code",
   "execution_count": 16,
   "metadata": {},
   "outputs": [
    {
     "name": "stdout",
     "output_type": "stream",
     "text": [
      "   Date Element  value\n",
      "0  1979    tmax   27.8\n",
      "1  1979    tmin   14.5\n",
      "2  1979    tmax   27.3\n",
      "3  1979    tmin   14.4\n"
     ]
    }
   ],
   "source": [
    "temp_concat = pd.concat([temp_data1, temp_data2], ignore_index=True)\n",
    "\n",
    "print(temp_concat)"
   ]
  },
  {
   "cell_type": "code",
   "execution_count": 18,
   "metadata": {},
   "outputs": [
    {
     "name": "stdout",
     "output_type": "stream",
     "text": [
      "{'Country': ['AD', 'AE', 'AF', 'AD', 'AE', 'AF'], 'Year': [2000, 2000, 2002, 2006, 2009, 2017], 'Variable': ['m014', 'm014', 'm014', 'm1524', 'm1524', 'm1524'], 'Value': [0, 2, 52, 0, 4, 228]}\n",
      "{'Age_group': [14, 14, 14, 24, 26, 27], 'Sex': ['m', 'm', 'f', 'm', 'f', 'f']}\n"
     ]
    }
   ],
   "source": [
    "# Concatenating dataFrames\n",
    "\n",
    "# First we will first create the dictionary then we convert it into Dataframe\n",
    "\n",
    "person = {\"Country\":[\"AD\", \"AE\", \"AF\", \"AD\", \"AE\", \"AF\"],\n",
    "          \"Year\":[2000, 2000, 2002, 2006, 2009, 2017],\n",
    "          \"Variable\": [\"m014\", \"m014\", \"m014\", \"m1524\", \"m1524\", \"m1524\"],\n",
    "          \"Value\": [0, 2, 52, 0, 4, 228]}\n",
    "print(person)\n",
    "\n",
    "detail = {\"Age_group\":[14, 14, 14, 24, 26, 27],\n",
    "           \"Sex\":[\"m\", \"m\", \"f\", \"m\", \"f\", \"f\"]}\n",
    "print(detail)"
   ]
  },
  {
   "cell_type": "code",
   "execution_count": 19,
   "metadata": {},
   "outputs": [
    {
     "name": "stdout",
     "output_type": "stream",
     "text": [
      "  Country  Year Variable  Value\n",
      "0      AD  2000     m014      0\n",
      "1      AE  2000     m014      2\n",
      "2      AF  2002     m014     52\n",
      "3      AD  2006    m1524      0\n",
      "4      AE  2009    m1524      4\n",
      "5      AF  2017    m1524    228\n",
      "   Age_group Sex\n",
      "0         14   m\n",
      "1         14   m\n",
      "2         14   f\n",
      "3         24   m\n",
      "4         26   f\n",
      "5         27   f\n"
     ]
    }
   ],
   "source": [
    "person1 = pd.DataFrame(person)\n",
    "detail1 = pd.DataFrame(detail)\n",
    "\n",
    "print(person1)\n",
    "print(detail1)"
   ]
  },
  {
   "cell_type": "code",
   "execution_count": 23,
   "metadata": {},
   "outputs": [
    {
     "name": "stdout",
     "output_type": "stream",
     "text": [
      "  Country  Year Variable  Value  Age_group Sex\n",
      "0      AD  2000     m014      0         14   m\n",
      "1      AE  2000     m014      2         14   m\n",
      "2      AF  2002     m014     52         14   f\n",
      "3      AD  2006    m1524      0         24   m\n",
      "4      AE  2009    m1524      4         26   f\n",
      "5      AF  2017    m1524    228         27   f\n"
     ]
    }
   ],
   "source": [
    "# Important : Axis=0, to stake the dataframe on teop of each other, Axis=1, to place the dataframe side by side.\n",
    "person_detail = pd.concat([person1, detail1], axis=1)\n",
    "\n",
    "print(person_detail)\n"
   ]
  },
  {
   "cell_type": "code",
   "execution_count": 30,
   "metadata": {},
   "outputs": [
    {
     "data": {
      "text/html": [
       "<div>\n",
       "<style scoped>\n",
       "    .dataframe tbody tr th:only-of-type {\n",
       "        vertical-align: middle;\n",
       "    }\n",
       "\n",
       "    .dataframe tbody tr th {\n",
       "        vertical-align: top;\n",
       "    }\n",
       "\n",
       "    .dataframe thead th {\n",
       "        text-align: right;\n",
       "    }\n",
       "</style>\n",
       "<table border=\"1\" class=\"dataframe\">\n",
       "  <thead>\n",
       "    <tr style=\"text-align: right;\">\n",
       "      <th></th>\n",
       "      <th>Country</th>\n",
       "      <th>Year</th>\n",
       "      <th>Variable</th>\n",
       "      <th>Value</th>\n",
       "      <th>Age_group</th>\n",
       "      <th>Sex</th>\n",
       "    </tr>\n",
       "  </thead>\n",
       "  <tbody>\n",
       "    <tr>\n",
       "      <td>2</td>\n",
       "      <td>AF</td>\n",
       "      <td>2002</td>\n",
       "      <td>m014</td>\n",
       "      <td>52</td>\n",
       "      <td>14</td>\n",
       "      <td>f</td>\n",
       "    </tr>\n",
       "    <tr>\n",
       "      <td>4</td>\n",
       "      <td>AE</td>\n",
       "      <td>2009</td>\n",
       "      <td>m1524</td>\n",
       "      <td>4</td>\n",
       "      <td>26</td>\n",
       "      <td>f</td>\n",
       "    </tr>\n",
       "    <tr>\n",
       "      <td>5</td>\n",
       "      <td>AF</td>\n",
       "      <td>2017</td>\n",
       "      <td>m1524</td>\n",
       "      <td>228</td>\n",
       "      <td>27</td>\n",
       "      <td>f</td>\n",
       "    </tr>\n",
       "  </tbody>\n",
       "</table>\n",
       "</div>"
      ],
      "text/plain": [
       "  Country  Year Variable  Value  Age_group Sex\n",
       "2      AF  2002     m014     52         14   f\n",
       "4      AE  2009    m1524      4         26   f\n",
       "5      AF  2017    m1524    228         27   f"
      ]
     },
     "execution_count": 30,
     "metadata": {},
     "output_type": "execute_result"
    }
   ],
   "source": [
    "person_detail[person_detail.Value > 2]"
   ]
  },
  {
   "cell_type": "code",
   "execution_count": 31,
   "metadata": {},
   "outputs": [
    {
     "name": "stdout",
     "output_type": "stream",
     "text": [
      "['bayya.csv', 'deliverable.csv', 'tidy.csv', 'weatherdata.csv', 'world_ind_pop_data.csv']\n"
     ]
    }
   ],
   "source": [
    "# Globbing, Find and concatenate\n",
    "# Finding differet types of csv file\n",
    "\n",
    "import glob\n",
    "\n",
    "csv_files = glob.glob('*.csv')\n",
    "\n",
    "print(csv_files)"
   ]
  },
  {
   "cell_type": "code",
   "execution_count": 42,
   "metadata": {},
   "outputs": [
    {
     "data": {
      "text/html": [
       "<div>\n",
       "<style scoped>\n",
       "    .dataframe tbody tr th:only-of-type {\n",
       "        vertical-align: middle;\n",
       "    }\n",
       "\n",
       "    .dataframe tbody tr th {\n",
       "        vertical-align: top;\n",
       "    }\n",
       "\n",
       "    .dataframe thead th {\n",
       "        text-align: right;\n",
       "    }\n",
       "</style>\n",
       "<table border=\"1\" class=\"dataframe\">\n",
       "  <thead>\n",
       "    <tr style=\"text-align: right;\">\n",
       "      <th></th>\n",
       "      <th>date</th>\n",
       "      <th>temperaturemin</th>\n",
       "      <th>temperaturemax</th>\n",
       "      <th>precipitation</th>\n",
       "      <th>snowfall</th>\n",
       "    </tr>\n",
       "  </thead>\n",
       "  <tbody>\n",
       "    <tr>\n",
       "      <td>0</td>\n",
       "      <td>2007-01-09</td>\n",
       "      <td>30.0</td>\n",
       "      <td>55.0</td>\n",
       "      <td>0.00</td>\n",
       "      <td>0</td>\n",
       "    </tr>\n",
       "    <tr>\n",
       "      <td>1</td>\n",
       "      <td>2007-01-22</td>\n",
       "      <td>33.1</td>\n",
       "      <td>41.0</td>\n",
       "      <td>0.08</td>\n",
       "      <td>0</td>\n",
       "    </tr>\n",
       "    <tr>\n",
       "      <td>2</td>\n",
       "      <td>2007-01-27</td>\n",
       "      <td>32.0</td>\n",
       "      <td>64.0</td>\n",
       "      <td>0.00</td>\n",
       "      <td>0</td>\n",
       "    </tr>\n",
       "    <tr>\n",
       "      <td>3</td>\n",
       "      <td>2007-01-30</td>\n",
       "      <td>24.1</td>\n",
       "      <td>48.9</td>\n",
       "      <td>0.00</td>\n",
       "      <td>0</td>\n",
       "    </tr>\n",
       "    <tr>\n",
       "      <td>4</td>\n",
       "      <td>2007-02-08</td>\n",
       "      <td>27.0</td>\n",
       "      <td>48.0</td>\n",
       "      <td>0.00</td>\n",
       "      <td>0</td>\n",
       "    </tr>\n",
       "    <tr>\n",
       "      <td>5</td>\n",
       "      <td>2007-02-13</td>\n",
       "      <td>37.9</td>\n",
       "      <td>50.0</td>\n",
       "      <td>0.59</td>\n",
       "      <td>0</td>\n",
       "    </tr>\n",
       "    <tr>\n",
       "      <td>6</td>\n",
       "      <td>2007-02-17</td>\n",
       "      <td>19.0</td>\n",
       "      <td>48.0</td>\n",
       "      <td>0.00</td>\n",
       "      <td>0</td>\n",
       "    </tr>\n",
       "    <tr>\n",
       "      <td>7</td>\n",
       "      <td>2007-02-21</td>\n",
       "      <td>50.0</td>\n",
       "      <td>73.0</td>\n",
       "      <td>0.01</td>\n",
       "      <td>0</td>\n",
       "    </tr>\n",
       "    <tr>\n",
       "      <td>8</td>\n",
       "      <td>2007-02-23</td>\n",
       "      <td>37.0</td>\n",
       "      <td>55.0</td>\n",
       "      <td>0.00</td>\n",
       "      <td>0</td>\n",
       "    </tr>\n",
       "    <tr>\n",
       "      <td>9</td>\n",
       "      <td>2007-02-28</td>\n",
       "      <td>37.9</td>\n",
       "      <td>61.0</td>\n",
       "      <td>0.00</td>\n",
       "      <td>0</td>\n",
       "    </tr>\n",
       "  </tbody>\n",
       "</table>\n",
       "</div>"
      ],
      "text/plain": [
       "         date  temperaturemin  temperaturemax  precipitation  snowfall\n",
       "0  2007-01-09            30.0            55.0           0.00         0\n",
       "1  2007-01-22            33.1            41.0           0.08         0\n",
       "2  2007-01-27            32.0            64.0           0.00         0\n",
       "3  2007-01-30            24.1            48.9           0.00         0\n",
       "4  2007-02-08            27.0            48.0           0.00         0\n",
       "5  2007-02-13            37.9            50.0           0.59         0\n",
       "6  2007-02-17            19.0            48.0           0.00         0\n",
       "7  2007-02-21            50.0            73.0           0.01         0\n",
       "8  2007-02-23            37.0            55.0           0.00         0\n",
       "9  2007-02-28            37.9            61.0           0.00         0"
      ]
     },
     "execution_count": 42,
     "metadata": {},
     "output_type": "execute_result"
    }
   ],
   "source": [
    "# using loops\n",
    "\n",
    "list_data = []\n",
    "for filename in csv_files:\n",
    "    data = pd.read_csv('weatherdata.csv')\n",
    "    list_data.append(data)\n",
    "pd.concat(list_data)\n",
    "\n",
    "data.head(10)"
   ]
  },
  {
   "cell_type": "code",
   "execution_count": 8,
   "metadata": {},
   "outputs": [
    {
     "name": "stdout",
     "output_type": "stream",
     "text": [
      "{'State': ['California', 'Texas', 'Florida', 'New York'], 'Population': [39250017, 27862596, 20612439, 19745289]}\n",
      "{'Name': ['California', 'Florida', 'New York', 'Texas'], 'ANSI': ['CA', 'FL', 'NY', 'TX']}\n"
     ]
    }
   ],
   "source": [
    "# Merge Data\n",
    "# --- Combining Data----\n",
    "# Concatenation is not the only way data can be combined \n",
    "# -----> From directory -- to --- Data Frame -- to -- Merge data\n",
    "\n",
    "population = {\"State\":[\"California\", \"Texas\", \"Florida\", \"New York\"],\n",
    "         \"Population\":[39250017, 27862596, 20612439, 19745289]}\n",
    "\n",
    "print(population)\n",
    "\n",
    "state = {\"Name\":[\"California\", \"Florida\", \"New York\", \"Texas\"],\n",
    "         \"ANSI\":[\"CA\", \"FL\", \"NY\", \"TX\"]}\n",
    "\n",
    "print(state)\n",
    "\n"
   ]
  },
  {
   "cell_type": "code",
   "execution_count": 9,
   "metadata": {},
   "outputs": [
    {
     "name": "stdout",
     "output_type": "stream",
     "text": [
      "        State  Population\n",
      "0  California    39250017\n",
      "1       Texas    27862596\n",
      "2     Florida    20612439\n",
      "3    New York    19745289\n",
      "         Name ANSI\n",
      "0  California   CA\n",
      "1     Florida   FL\n",
      "2    New York   NY\n",
      "3       Texas   TX\n"
     ]
    }
   ],
   "source": [
    "import pandas as pd\n",
    "\n",
    "population1 = pd.DataFrame(population)\n",
    "\n",
    "print(population1)\n",
    "\n",
    "state1 = pd.DataFrame(state)\n",
    "\n",
    "print(state1)"
   ]
  },
  {
   "cell_type": "code",
   "execution_count": 11,
   "metadata": {},
   "outputs": [
    {
     "data": {
      "text/html": [
       "<div>\n",
       "<style scoped>\n",
       "    .dataframe tbody tr th:only-of-type {\n",
       "        vertical-align: middle;\n",
       "    }\n",
       "\n",
       "    .dataframe tbody tr th {\n",
       "        vertical-align: top;\n",
       "    }\n",
       "\n",
       "    .dataframe thead th {\n",
       "        text-align: right;\n",
       "    }\n",
       "</style>\n",
       "<table border=\"1\" class=\"dataframe\">\n",
       "  <thead>\n",
       "    <tr style=\"text-align: right;\">\n",
       "      <th></th>\n",
       "      <th>State</th>\n",
       "      <th>Population</th>\n",
       "      <th>Name</th>\n",
       "      <th>ANSI</th>\n",
       "    </tr>\n",
       "  </thead>\n",
       "  <tbody>\n",
       "    <tr>\n",
       "      <td>0</td>\n",
       "      <td>California</td>\n",
       "      <td>39250017</td>\n",
       "      <td>California</td>\n",
       "      <td>CA</td>\n",
       "    </tr>\n",
       "    <tr>\n",
       "      <td>1</td>\n",
       "      <td>Texas</td>\n",
       "      <td>27862596</td>\n",
       "      <td>Texas</td>\n",
       "      <td>TX</td>\n",
       "    </tr>\n",
       "    <tr>\n",
       "      <td>2</td>\n",
       "      <td>Florida</td>\n",
       "      <td>20612439</td>\n",
       "      <td>Florida</td>\n",
       "      <td>FL</td>\n",
       "    </tr>\n",
       "    <tr>\n",
       "      <td>3</td>\n",
       "      <td>New York</td>\n",
       "      <td>19745289</td>\n",
       "      <td>New York</td>\n",
       "      <td>NY</td>\n",
       "    </tr>\n",
       "  </tbody>\n",
       "</table>\n",
       "</div>"
      ],
      "text/plain": [
       "        State  Population        Name ANSI\n",
       "0  California    39250017  California   CA\n",
       "1       Texas    27862596       Texas   TX\n",
       "2     Florida    20612439     Florida   FL\n",
       "3    New York    19745289    New York   NY"
      ]
     },
     "execution_count": 11,
     "metadata": {},
     "output_type": "execute_result"
    }
   ],
   "source": [
    "# Merging Data, similar to joining tables in SQL\n",
    "# Combine disperate datasets based on common columns\n",
    "\n",
    "pd.merge(left=population1, right=state1, on=None, left_on='State', right_on='Name')\n",
    "\n",
    "# For more type of merges see CONCAT FILE ON GITHUB/BAYYARAGHU\n"
   ]
  },
  {
   "cell_type": "code",
   "execution_count": null,
   "metadata": {},
   "outputs": [],
   "source": []
  }
 ],
 "metadata": {
  "kernelspec": {
   "display_name": "Python 3",
   "language": "python",
   "name": "python3"
  },
  "language_info": {
   "codemirror_mode": {
    "name": "ipython",
    "version": 3
   },
   "file_extension": ".py",
   "mimetype": "text/x-python",
   "name": "python",
   "nbconvert_exporter": "python",
   "pygments_lexer": "ipython3",
   "version": "3.7.4"
  }
 },
 "nbformat": 4,
 "nbformat_minor": 2
}

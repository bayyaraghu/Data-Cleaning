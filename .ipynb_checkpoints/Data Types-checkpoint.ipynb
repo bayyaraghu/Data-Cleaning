{
 "cells": [
  {
   "cell_type": "code",
   "execution_count": 33,
   "metadata": {},
   "outputs": [
    {
     "name": "stdout",
     "output_type": "stream",
     "text": [
      "{'Name': ['Daniel', 'John', 'Jane'], 'Sex': ['male', 'male', 'female'], 'Treatement a': [0, 12, 24], 'Treatement b': [42, 34, 27]}\n"
     ]
    }
   ],
   "source": [
    "# Prepare and clean data\n",
    "\n",
    "# -- Dictionary -- to -- Dataframe\n",
    "\n",
    "paitent= {\"Name\":[\"Daniel\", \"John\", \"Jane\"],\n",
    "        \"Sex\":[\"male\",\"male\", \"female\"],\n",
    "          \"Treatement a\":[ 0 ,12, 24],\n",
    "          \"Treatement b\":[42, 34, 27]}\n",
    "print(paitent)\n",
    " \n"
   ]
  },
  {
   "cell_type": "code",
   "execution_count": 34,
   "metadata": {},
   "outputs": [
    {
     "name": "stdout",
     "output_type": "stream",
     "text": [
      "     Name     Sex  Treatement a  Treatement b\n",
      "0  Daniel    male             0            42\n",
      "1    John    male            12            34\n",
      "2    Jane  female            24            27\n"
     ]
    }
   ],
   "source": [
    "import pandas as pd\n",
    "\n",
    "paitent1 = pd.DataFrame(paitent)\n",
    "\n",
    "print(paitent1)"
   ]
  },
  {
   "cell_type": "code",
   "execution_count": 35,
   "metadata": {},
   "outputs": [
    {
     "name": "stdout",
     "output_type": "stream",
     "text": [
      "Name            object\n",
      "Sex             object\n",
      "Treatement a     int64\n",
      "Treatement b     int64\n",
      "dtype: object\n"
     ]
    }
   ],
   "source": [
    "# Data type\n",
    "print(paitent1.dtypes)\n",
    "\n",
    "# There may be times we want to convert from one type to another.\n",
    "# Numeric columns can be strings, or vic versa"
   ]
  },
  {
   "cell_type": "code",
   "execution_count": 36,
   "metadata": {},
   "outputs": [
    {
     "data": {
      "text/plain": [
       "Name              object\n",
       "Sex             category\n",
       "Treatement a       int64\n",
       "Treatement b      object\n",
       "dtype: object"
      ]
     },
     "execution_count": 36,
     "metadata": {},
     "output_type": "execute_result"
    }
   ],
   "source": [
    "# Converting data types\n",
    "paitent1['Treatement b'] = paitent1['Treatement b'].astype(str)\n",
    "paitent1['Sex'] = paitent1['Sex'].astype('category')\n",
    "paitent1.dtypes"
   ]
  },
  {
   "cell_type": "code",
   "execution_count": 37,
   "metadata": {},
   "outputs": [
    {
     "name": "stdout",
     "output_type": "stream",
     "text": [
      "     Name     Sex  Treatement a Treatement b\n",
      "0  Daniel    male             0           42\n",
      "1    John    male            12           34\n",
      "2    Jane  female            24           27\n"
     ]
    },
    {
     "data": {
      "text/plain": [
       "Name              object\n",
       "Sex             category\n",
       "Treatement a       int64\n",
       "Treatement b      object\n",
       "dtype: object"
      ]
     },
     "execution_count": 37,
     "metadata": {},
     "output_type": "execute_result"
    }
   ],
   "source": [
    "# Cleaning Data : Numeric data loaded as a string\n",
    "\n",
    "print(paitent1)\n",
    "paitent1.dtypes\n"
   ]
  },
  {
   "cell_type": "code",
   "execution_count": 38,
   "metadata": {},
   "outputs": [
    {
     "data": {
      "text/plain": [
       "Name              object\n",
       "Sex             category\n",
       "Treatement a       int64\n",
       "Treatement b      object\n",
       "dtype: object"
      ]
     },
     "execution_count": 38,
     "metadata": {},
     "output_type": "execute_result"
    }
   ],
   "source": [
    "paitent1['Treatement a'] = pd.to_numeric(paitent1['Treatement a'], errors='coerce')\n",
    "paitent1.dtypes"
   ]
  },
  {
   "cell_type": "code",
   "execution_count": 39,
   "metadata": {},
   "outputs": [
    {
     "data": {
      "text/plain": [
       "True"
      ]
     },
     "execution_count": 39,
     "metadata": {},
     "output_type": "execute_result"
    }
   ],
   "source": [
    "# Using Regular expressions to clean Strings : for more refer @ DATATYPE FROM GITHUB/BAYYARAGHU (String manipulation)\n",
    "\n",
    "import re  \n",
    "\n",
    "pattern = re.compile('\\$\\d*\\.\\d{2}')\n",
    "\n",
    "result = pattern.match('$17.89')\n",
    "bool(result)"
   ]
  },
  {
   "cell_type": "code",
   "execution_count": 40,
   "metadata": {},
   "outputs": [],
   "source": [
    "# Using Function to clean data\n",
    "   # complex cleaning\n",
    "    # cleaning step requires multiple steps\n",
    "    # Extract number from string\n",
    "    # Perform transformation on extracted number\n",
    "    # python function"
   ]
  },
  {
   "cell_type": "code",
   "execution_count": 41,
   "metadata": {},
   "outputs": [
    {
     "name": "stdout",
     "output_type": "stream",
     "text": [
      "     Name     Sex  Treatement a Treatement b\n",
      "0  Daniel    male             0           42\n",
      "1    John    male            12           34\n",
      "2    Jane  female            24           27\n"
     ]
    }
   ],
   "source": [
    " print(paitent1)"
   ]
  },
  {
   "cell_type": "code",
   "execution_count": 42,
   "metadata": {},
   "outputs": [
    {
     "name": "stdout",
     "output_type": "stream",
     "text": [
      "   Treatement a Treatement b\n",
      "0             0           42\n",
      "1            12           34\n",
      "2            24           27\n"
     ]
    }
   ],
   "source": [
    "treatement = paitent1[[\"Treatement a\", \"Treatement b\"]]\n",
    "print(treatement)"
   ]
  },
  {
   "cell_type": "code",
   "execution_count": 43,
   "metadata": {},
   "outputs": [
    {
     "data": {
      "text/plain": [
       "Treatement a        12.000000\n",
       "Treatement b    141142.333333\n",
       "dtype: float64"
      ]
     },
     "execution_count": 43,
     "metadata": {},
     "output_type": "execute_result"
    }
   ],
   "source": [
    "import numpy as np\n",
    "\n",
    "treatement.apply(np.mean, axis=0)\n"
   ]
  },
  {
   "cell_type": "code",
   "execution_count": 44,
   "metadata": {},
   "outputs": [
    {
     "name": "stdout",
     "output_type": "stream",
     "text": [
      "         Job  Doc   Borough Initial Cost Total Est.Fee\n",
      "0  121578451    2  Montreal   $75,000.00       $986.00\n",
      "1  524616664    1   Toronto        $0.00     $1,244.00\n",
      "2  121545555    1    Ottawa   $30,000.00       $522.00\n",
      "3  541245455    1   Alberta    $1,500.00       $255.25\n",
      "4  251551512    1   Toronto  $195,450.00       $545.25\n"
     ]
    },
    {
     "data": {
      "text/plain": [
       "Job               int64\n",
       "Doc               int64\n",
       "Borough          object\n",
       "Initial Cost     object\n",
       "Total Est.Fee    object\n",
       "dtype: object"
      ]
     },
     "execution_count": 44,
     "metadata": {},
     "output_type": "execute_result"
    }
   ],
   "source": [
    "import pandas as pd\n",
    "\n",
    "emp = pd.read_csv('employs.csv')\n",
    "print(emp)\n",
    "\n",
    "emp.dtypes"
   ]
  },
  {
   "cell_type": "code",
   "execution_count": 45,
   "metadata": {},
   "outputs": [],
   "source": [
    "import re\n",
    "from numpy import NaN\n",
    "pattern = re.compile('^\\$\\d*\\.\\d{2}$')"
   ]
  },
  {
   "cell_type": "code",
   "execution_count": 46,
   "metadata": {},
   "outputs": [],
   "source": [
    "def diff_money(emp, pattern):\n",
    "    \n",
    "    icost = emp['Initial Cost']\n",
    "    tef = emp['Total Est.Fee']\n",
    "    \n",
    "    if bool(pattern.match(icost)) and bool(pattern.match(tef)):\n",
    "        \n",
    "        icost = icost.replace(\"$\", \"\")\n",
    "        tef =  tef.replace(\"$\", \"\")\n",
    "        \n",
    "        icost = float(icost)\n",
    "        tef = float(tef)\n",
    "        \n",
    "        return icost - tef\n",
    "    else:\n",
    "        return(NaN)"
   ]
  },
  {
   "cell_type": "code",
   "execution_count": 47,
   "metadata": {},
   "outputs": [
    {
     "name": "stdout",
     "output_type": "stream",
     "text": [
      "         Job  Doc   Borough Initial Cost Total Est.Fee  diff\n",
      "0  121578451    2  Montreal   $75,000.00       $986.00   NaN\n",
      "1  524616664    1   Toronto        $0.00     $1,244.00   NaN\n",
      "2  121545555    1    Ottawa   $30,000.00       $522.00   NaN\n",
      "3  541245455    1   Alberta    $1,500.00       $255.25   NaN\n",
      "4  251551512    1   Toronto  $195,450.00       $545.25   NaN\n"
     ]
    }
   ],
   "source": [
    "emp['diff'] = emp.apply(diff_money, axis=1, pattern=pattern)\n",
    "\n",
    "print(emp.head())"
   ]
  },
  {
   "cell_type": "code",
   "execution_count": 48,
   "metadata": {},
   "outputs": [
    {
     "name": "stdout",
     "output_type": "stream",
     "text": [
      "{'Name': ['Daniel', 'John', 'Jane', 'Daniel'], 'Sex': ['male', 'male', 'female', 'male'], 'Treatement a': [0, 12, 24, 0], 'Treatement b': [42, 34, 27, 42]}\n"
     ]
    }
   ],
   "source": [
    "# Duplicate and Missing Data\n",
    "\n",
    " # 1. Can Skew Result.\n",
    " # 2. '.drop_duplicates() method'\n",
    "# -- Dictionary -- to -- Dataframe\n",
    "\n",
    "paitent2= {\"Name\":[\"Daniel\", \"John\", \"Jane\", \"Daniel\"],\n",
    "        \"Sex\":[\"male\",\"male\", \"female\", \"male\"],\n",
    "          \"Treatement a\":[ 0 ,12, 24, 0],\n",
    "          \"Treatement b\":[42, 34, 27, 42]}\n",
    "print(paitent2)\n"
   ]
  },
  {
   "cell_type": "code",
   "execution_count": 49,
   "metadata": {},
   "outputs": [
    {
     "name": "stdout",
     "output_type": "stream",
     "text": [
      "     Name     Sex  Treatement a  Treatement b\n",
      "0  Daniel    male             0            42\n",
      "1    John    male            12            34\n",
      "2    Jane  female            24            27\n",
      "3  Daniel    male             0            42\n"
     ]
    }
   ],
   "source": [
    "patient_2 = pd.DataFrame(paitent2)\n",
    "\n",
    "print(patient_2)"
   ]
  },
  {
   "cell_type": "code",
   "execution_count": 50,
   "metadata": {},
   "outputs": [
    {
     "name": "stdout",
     "output_type": "stream",
     "text": [
      "     Name     Sex  Treatement a  Treatement b\n",
      "0  Daniel    male             0            42\n",
      "1    John    male            12            34\n",
      "2    Jane  female            24            27\n"
     ]
    }
   ],
   "source": [
    "df_patient = patient_2.drop_duplicates()\n",
    "print(df_patient)"
   ]
  },
  {
   "cell_type": "code",
   "execution_count": 51,
   "metadata": {},
   "outputs": [
    {
     "name": "stdout",
     "output_type": "stream",
     "text": [
      "   Total bill   tip     sex smoker  day    time   size\n",
      "0       16.99  1.01  Female      No  Sun  Dinner   2.0\n",
      "1         NaN  1.66    Male      No  Mon  Dinner   3.0\n",
      "2       21.01  3.50    Male      No  Tue  Dinner   3.0\n",
      "3       23.68   NaN    Male      No  Wed  Dinner   2.0\n",
      "4       24.59  3.61    Male     NaN  Thu     NaN   4.0\n"
     ]
    }
   ],
   "source": [
    "# Missing Data\n",
    "   # Leave as is, Drop them, Fill Missing value\n",
    "\n",
    "import pandas as pd\n",
    "\n",
    "job_detail = pd.read_csv('job_det.csv')\n",
    "\n",
    "print(job_detail)"
   ]
  },
  {
   "cell_type": "code",
   "execution_count": 52,
   "metadata": {},
   "outputs": [
    {
     "name": "stdout",
     "output_type": "stream",
     "text": [
      "<class 'pandas.core.frame.DataFrame'>\n",
      "RangeIndex: 5 entries, 0 to 4\n",
      "Data columns (total 7 columns):\n",
      "Total bill    4 non-null float64\n",
      "tip           4 non-null float64\n",
      "sex           5 non-null object\n",
      "smoker        4 non-null object\n",
      "day           5 non-null object\n",
      "time          4 non-null object\n",
      "size          5 non-null float64\n",
      "dtypes: float64(3), object(4)\n",
      "memory usage: 408.0+ bytes\n"
     ]
    }
   ],
   "source": [
    "# to count missing values\n",
    "\n",
    "job_detail.info()"
   ]
  },
  {
   "cell_type": "code",
   "execution_count": 53,
   "metadata": {},
   "outputs": [
    {
     "name": "stdout",
     "output_type": "stream",
     "text": [
      "<class 'pandas.core.frame.DataFrame'>\n",
      "Int64Index: 2 entries, 0 to 2\n",
      "Data columns (total 7 columns):\n",
      "Total bill    2 non-null float64\n",
      "tip           2 non-null float64\n",
      "sex           2 non-null object\n",
      "smoker        2 non-null object\n",
      "day           2 non-null object\n",
      "time          2 non-null object\n",
      "size          2 non-null float64\n",
      "dtypes: float64(3), object(4)\n",
      "memory usage: 128.0+ bytes\n"
     ]
    }
   ],
   "source": [
    "# Drop missing values\n",
    "job_drop = job_detail.dropna()\n",
    "\n",
    "job_drop.info()"
   ]
  },
  {
   "cell_type": "code",
   "execution_count": 54,
   "metadata": {},
   "outputs": [
    {
     "name": "stdout",
     "output_type": "stream",
     "text": [
      "   Total bill   tip     sex smoker  day    time   size\n",
      "0       16.99  1.01  Female      No  Sun  Dinner   2.0\n",
      "2       21.01  3.50    Male      No  Tue  Dinner   3.0\n"
     ]
    }
   ],
   "source": [
    "print(job_drop)"
   ]
  },
  {
   "cell_type": "code",
   "execution_count": 55,
   "metadata": {},
   "outputs": [
    {
     "name": "stdout",
     "output_type": "stream",
     "text": [
      "   Total bill   tip     sex smoker  day    time   size\n",
      "0       16.99  1.01  Female      No  Sun  Dinner   2.0\n",
      "1         NaN  1.66    Male      No  Mon  Dinner   3.0\n",
      "2       21.01  3.50    Male      No  Tue  Dinner   3.0\n",
      "3       23.68   NaN    Male      No  Wed  Dinner   2.0\n",
      "4       24.59  3.61    Male     NaN  Thu     NaN   4.0\n"
     ]
    }
   ],
   "source": [
    "# Fill missing values with .fillna()\n",
    "  # Fill with provided value\n",
    "    # Use a summary statisti\n",
    "\n",
    "print(job_detail)\n"
   ]
  },
  {
   "cell_type": "code",
   "execution_count": 56,
   "metadata": {},
   "outputs": [
    {
     "name": "stdout",
     "output_type": "stream",
     "text": [
      "   Total bill      tip     sex smoker  day    time   size\n",
      "0       16.99     1.01  Female      No  Sun  Dinner   2.0\n",
      "1         NaN     1.66    Male      No  Mon  Dinner   3.0\n",
      "2       21.01      3.5    Male      No  Tue  Dinner   3.0\n",
      "3       23.68  missing    Male      No  Wed  Dinner   2.0\n",
      "4       24.59     3.61    Male     NaN  Thu     NaN   4.0\n",
      "<class 'pandas.core.frame.DataFrame'>\n",
      "RangeIndex: 5 entries, 0 to 4\n",
      "Data columns (total 7 columns):\n",
      "Total bill    4 non-null float64\n",
      "tip           5 non-null object\n",
      "sex           5 non-null object\n",
      "smoker        4 non-null object\n",
      "day           5 non-null object\n",
      "time          4 non-null object\n",
      "size          5 non-null float64\n",
      "dtypes: float64(2), object(5)\n",
      "memory usage: 408.0+ bytes\n"
     ]
    }
   ],
   "source": [
    "job_detail['tip'] = job_detail['tip'].fillna('missing')\n",
    "\n",
    "print(job_detail)\n",
    "\n",
    "job_detail.info()"
   ]
  },
  {
   "cell_type": "code",
   "execution_count": 57,
   "metadata": {},
   "outputs": [
    {
     "name": "stdout",
     "output_type": "stream",
     "text": [
      "   Total bill      tip     sex smoker  day    time   size\n",
      "0       16.99     1.01  Female      No  Sun  Dinner   2.0\n",
      "1        0.00     1.66    Male      No  Mon  Dinner   3.0\n",
      "2       21.01      3.5    Male      No  Tue  Dinner   3.0\n",
      "3       23.68  missing    Male      No  Wed  Dinner   2.0\n",
      "4       24.59     3.61    Male     NaN  Thu     NaN   4.0\n"
     ]
    }
   ],
   "source": [
    "job_detail[['Total bill', 'size']] = job_detail[['Total bill', 'size']].fillna(0)\n",
    "\n",
    "print(job_detail)"
   ]
  },
  {
   "cell_type": "code",
   "execution_count": 61,
   "metadata": {},
   "outputs": [
    {
     "name": "stdout",
     "output_type": "stream",
     "text": [
      "   Total bill   tip     sex smoker  day    time   size\n",
      "0       16.99  1.01  Female      No  Sun  Dinner   2.0\n",
      "1         NaN  1.66    Male      No  Mon  Dinner   3.0\n",
      "2       21.01  3.50    Male      No  Tue  Dinner   3.0\n",
      "3       23.68   NaN    Male      No  Wed  Dinner   2.0\n",
      "4       24.59  3.61    Male     NaN  Thu     NaN   4.0\n"
     ]
    }
   ],
   "source": [
    "# Fill missing values with a test statistic\n",
    "\n",
    "import pandas as pd\n",
    "\n",
    "job_detail1 = pd.read_csv('job_det.csv')\n",
    "\n",
    "print(job_detail1)"
   ]
  },
  {
   "cell_type": "code",
   "execution_count": 62,
   "metadata": {},
   "outputs": [
    {
     "name": "stdout",
     "output_type": "stream",
     "text": [
      "21.5675\n"
     ]
    }
   ],
   "source": [
    "# Finding the mean value of Total Bill\n",
    "\n",
    "mean_value = job_detail1['Total bill'].mean()\n",
    "print(mean_value)"
   ]
  },
  {
   "cell_type": "code",
   "execution_count": 63,
   "metadata": {},
   "outputs": [
    {
     "name": "stdout",
     "output_type": "stream",
     "text": [
      "  Total bill   tip     sex smoker  day    time   size\n",
      "0      16.99  1.01  Female      No  Sun  Dinner   2.0\n",
      "1    21.5675  1.66    Male      No  Mon  Dinner   3.0\n",
      "2      21.01  3.50    Male      No  Tue  Dinner   3.0\n",
      "3      23.68   NaN    Male      No  Wed  Dinner   2.0\n",
      "4      24.59  3.61    Male     NaN  Thu     NaN   4.0\n"
     ]
    }
   ],
   "source": [
    "# Adding mean value to missing value in job_detail1\n",
    "\n",
    "job_detail1['Total bill'] = job_detail1.fillna(mean_value)\n",
    "\n",
    "print(job_detail1)"
   ]
  },
  {
   "cell_type": "code",
   "execution_count": 64,
   "metadata": {},
   "outputs": [],
   "source": [
    "# Testing with asserts\n",
    "# ---- Assert Statements -----\n",
    "# 1. Programmatically Vs visually checking\n",
    "# 2. If we drop or fill NaN, we expect o missing values\n",
    "# 3. We can write an assert statement to verify this\n",
    "# 4. We can detect early warnings and errors\n",
    "# 5. This gives us confidence that out code is running corretly\n",
    "\n"
   ]
  },
  {
   "cell_type": "code",
   "execution_count": 67,
   "metadata": {},
   "outputs": [
    {
     "ename": "AssertionError",
     "evalue": "",
     "output_type": "error",
     "traceback": [
      "\u001b[1;31m---------------------------------------------------------------------------\u001b[0m",
      "\u001b[1;31mAssertionError\u001b[0m                            Traceback (most recent call last)",
      "\u001b[1;32m<ipython-input-67-79c4f49f8ac1>\u001b[0m in \u001b[0;36m<module>\u001b[1;34m\u001b[0m\n\u001b[1;32m----> 1\u001b[1;33m \u001b[1;32massert\u001b[0m \u001b[0mjob_detail1\u001b[0m\u001b[1;33m.\u001b[0m\u001b[0mtip\u001b[0m\u001b[1;33m.\u001b[0m\u001b[0mnotnull\u001b[0m\u001b[1;33m(\u001b[0m\u001b[1;33m)\u001b[0m\u001b[1;33m.\u001b[0m\u001b[0mall\u001b[0m\u001b[1;33m(\u001b[0m\u001b[1;33m)\u001b[0m\u001b[1;33m\u001b[0m\u001b[1;33m\u001b[0m\u001b[0m\n\u001b[0m",
      "\u001b[1;31mAssertionError\u001b[0m: "
     ]
    }
   ],
   "source": [
    "assert job_detail1.tip.notnull().all()"
   ]
  },
  {
   "cell_type": "code",
   "execution_count": null,
   "metadata": {},
   "outputs": [],
   "source": []
  }
 ],
 "metadata": {
  "kernelspec": {
   "display_name": "Python 3",
   "language": "python",
   "name": "python3"
  },
  "language_info": {
   "codemirror_mode": {
    "name": "ipython",
    "version": 3
   },
   "file_extension": ".py",
   "mimetype": "text/x-python",
   "name": "python",
   "nbconvert_exporter": "python",
   "pygments_lexer": "ipython3",
   "version": "3.7.4"
  }
 },
 "nbformat": 4,
 "nbformat_minor": 2
}

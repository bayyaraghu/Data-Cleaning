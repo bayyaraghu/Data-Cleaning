{
 "cells": [
  {
   "cell_type": "code",
   "execution_count": 11,
   "metadata": {},
   "outputs": [
    {
     "name": "stdout",
     "output_type": "stream",
     "text": [
      "{'Name': ['Daniel', 'John', 'Jane'], 'Sex': ['male', 'male', 'female'], 'Treatement a': [0, 12, 24], 'Treatement b': [42, 34, 27]}\n"
     ]
    }
   ],
   "source": [
    "# Prepare and clean data\n",
    "\n",
    "# -- Dictionary -- to -- Dataframe\n",
    "\n",
    "paitent= {\"Name\":[\"Daniel\", \"John\", \"Jane\"],\n",
    "        \"Sex\":[\"male\",\"male\", \"female\"],\n",
    "          \"Treatement a\":[ 0 ,12, 24],\n",
    "          \"Treatement b\":[42, 34, 27]}\n",
    "print(paitent)\n",
    " \n"
   ]
  },
  {
   "cell_type": "code",
   "execution_count": 18,
   "metadata": {},
   "outputs": [
    {
     "name": "stdout",
     "output_type": "stream",
     "text": [
      "     Name     Sex  Treatement a  Treatement b\n",
      "0  Daniel    male             0            42\n",
      "1    John    male            12            34\n",
      "2    Jane  female            24            27\n"
     ]
    }
   ],
   "source": [
    "import pandas as pd\n",
    "\n",
    "paitent1 = pd.DataFrame(paitent)\n",
    "\n",
    "print(paitent1)"
   ]
  },
  {
   "cell_type": "code",
   "execution_count": 28,
   "metadata": {},
   "outputs": [
    {
     "name": "stdout",
     "output_type": "stream",
     "text": [
      "Name            object\n",
      "Sex             object\n",
      "Treatement a     int64\n",
      "Treatement b     int64\n",
      "dtype: object\n"
     ]
    }
   ],
   "source": [
    "# Data type\n",
    "print(paitent1.dtypes)\n",
    "\n",
    "# There may be times we want to convert from one type to another.\n",
    "# Numeric columns can be strings, or vic versa"
   ]
  },
  {
   "cell_type": "code",
   "execution_count": 38,
   "metadata": {},
   "outputs": [
    {
     "data": {
      "text/plain": [
       "Name              object\n",
       "Sex             category\n",
       "Treatement a       int64\n",
       "Treatement b      object\n",
       "dtype: object"
      ]
     },
     "execution_count": 38,
     "metadata": {},
     "output_type": "execute_result"
    }
   ],
   "source": [
    "# Converting data types\n",
    "paitent1['Treatement b'] = paitent1['Treatement b'].astype(str)\n",
    "paitent1['Sex'] = paitent1['Sex'].astype('category')\n",
    "paitent1.dtypes"
   ]
  },
  {
   "cell_type": "code",
   "execution_count": 39,
   "metadata": {},
   "outputs": [
    {
     "name": "stdout",
     "output_type": "stream",
     "text": [
      "     Name     Sex  Treatement a Treatement b\n",
      "0  Daniel    male            42           42\n",
      "1    John    male            34           34\n",
      "2    Jane  female            27           27\n"
     ]
    },
    {
     "data": {
      "text/plain": [
       "Name              object\n",
       "Sex             category\n",
       "Treatement a       int64\n",
       "Treatement b      object\n",
       "dtype: object"
      ]
     },
     "execution_count": 39,
     "metadata": {},
     "output_type": "execute_result"
    }
   ],
   "source": [
    "# Cleaning Data : Numeric data loaded as a string\n",
    "\n",
    "print(paitent1)\n",
    "paitent1.dtypes\n"
   ]
  },
  {
   "cell_type": "code",
   "execution_count": 41,
   "metadata": {},
   "outputs": [
    {
     "data": {
      "text/plain": [
       "Name              object\n",
       "Sex             category\n",
       "Treatement a       int64\n",
       "Treatement b      object\n",
       "dtype: object"
      ]
     },
     "execution_count": 41,
     "metadata": {},
     "output_type": "execute_result"
    }
   ],
   "source": [
    "paitent1['Treatement a'] = pd.to_numeric(paitent1['Treatement a'], errors='coerce')\n",
    "paitent1.dtypes"
   ]
  },
  {
   "cell_type": "code",
   "execution_count": 43,
   "metadata": {},
   "outputs": [
    {
     "data": {
      "text/plain": [
       "True"
      ]
     },
     "execution_count": 43,
     "metadata": {},
     "output_type": "execute_result"
    }
   ],
   "source": [
    "# Using Regular expressions to clean Strings : for more refer @ DATATYPE FROM GITHUB/BAYYARAGHU (String manipulation)\n",
    "\n",
    "import re  \n",
    "\n",
    "pattern = re.compile('\\$\\d*\\.\\d{2}')\n",
    "\n",
    "result = pattern.match('$17.89')\n",
    "bool(result)"
   ]
  },
  {
   "cell_type": "code",
   "execution_count": 44,
   "metadata": {},
   "outputs": [],
   "source": [
    "# Using Function to clean data\n",
    "   # complex cleaning\n",
    "    # cleaning step requires multiple steps\n",
    "    # Extract number from string\n",
    "    # Perform transformation on extracted number\n",
    "    # python function"
   ]
  },
  {
   "cell_type": "code",
   "execution_count": 49,
   "metadata": {},
   "outputs": [
    {
     "name": "stdout",
     "output_type": "stream",
     "text": [
      "     Name     Sex  Treatement a Treatement b\n",
      "0  Daniel    male            42           42\n",
      "1    John    male            34           34\n",
      "2    Jane  female            27           27\n"
     ]
    }
   ],
   "source": [
    " print(paitent1)"
   ]
  },
  {
   "cell_type": "code",
   "execution_count": 70,
   "metadata": {},
   "outputs": [
    {
     "name": "stdout",
     "output_type": "stream",
     "text": [
      "   Treatement a Treatement b\n",
      "0            42           42\n",
      "1            34           34\n",
      "2            27           27\n"
     ]
    }
   ],
   "source": [
    "treatement = paitent1[[\"Treatement a\", \"Treatement b\"]]\n",
    "print(treatement)"
   ]
  },
  {
   "cell_type": "code",
   "execution_count": 94,
   "metadata": {},
   "outputs": [
    {
     "data": {
      "text/plain": [
       "Treatement a        34.333333\n",
       "Treatement b    141142.333333\n",
       "dtype: float64"
      ]
     },
     "execution_count": 94,
     "metadata": {},
     "output_type": "execute_result"
    }
   ],
   "source": [
    "import numpy as np\n",
    "\n",
    "treatement.apply(np.mean, axis=0)\n"
   ]
  },
  {
   "cell_type": "code",
   "execution_count": 104,
   "metadata": {},
   "outputs": [
    {
     "name": "stdout",
     "output_type": "stream",
     "text": [
      "         Job  Doc   Borough Initial Cost Total Est.Fee\n",
      "0  121578451    2  Montreal   $75,000.00       $986.00\n",
      "1  524616664    1   Toronto        $0.00     $1,244.00\n",
      "2  121545555    1    Ottawa   $30,000.00       $522.00\n",
      "3  541245455    1   Alberta    $1,500.00       $255.25\n",
      "4  251551512    1   Toronto  $195,450.00       $545.25\n"
     ]
    },
    {
     "data": {
      "text/plain": [
       "Job               int64\n",
       "Doc               int64\n",
       "Borough          object\n",
       "Initial Cost     object\n",
       "Total Est.Fee    object\n",
       "dtype: object"
      ]
     },
     "execution_count": 104,
     "metadata": {},
     "output_type": "execute_result"
    }
   ],
   "source": [
    "import pandas as pd\n",
    "\n",
    "emp = pd.read_csv('employs.csv')\n",
    "print(emp)\n",
    "\n",
    "emp.dtypes"
   ]
  },
  {
   "cell_type": "code",
   "execution_count": 105,
   "metadata": {},
   "outputs": [],
   "source": [
    "import re\n",
    "from numpy import NaN\n",
    "pattern = re.compile('^\\$\\d*\\.\\d{2}$')"
   ]
  },
  {
   "cell_type": "code",
   "execution_count": 106,
   "metadata": {},
   "outputs": [],
   "source": [
    "def diff_money(emp, pattern):\n",
    "    \n",
    "    icost = emp['Initial Cost']\n",
    "    tef = emp['Total Est.Fee']\n",
    "    \n",
    "    if bool(pattern.match(icost)) and bool(pattern.match(tef)):\n",
    "        \n",
    "        icost = icost.replace(\"$\", \"\")\n",
    "        tef =  tef.replace(\"$\", \"\")\n",
    "        \n",
    "        icost = float(icost)\n",
    "        tef = float(tef)\n",
    "        \n",
    "        return icost - tef\n",
    "    else:\n",
    "        return(NaN)"
   ]
  },
  {
   "cell_type": "code",
   "execution_count": 107,
   "metadata": {},
   "outputs": [
    {
     "name": "stdout",
     "output_type": "stream",
     "text": [
      "         Job  Doc   Borough Initial Cost Total Est.Fee  diff\n",
      "0  121578451    2  Montreal   $75,000.00       $986.00   NaN\n",
      "1  524616664    1   Toronto        $0.00     $1,244.00   NaN\n",
      "2  121545555    1    Ottawa   $30,000.00       $522.00   NaN\n",
      "3  541245455    1   Alberta    $1,500.00       $255.25   NaN\n",
      "4  251551512    1   Toronto  $195,450.00       $545.25   NaN\n"
     ]
    }
   ],
   "source": [
    "emp['diff'] = emp.apply(diff_money, axis=1, pattern=pattern)\n",
    "\n",
    "print(emp.head())"
   ]
  },
  {
   "cell_type": "code",
   "execution_count": 109,
   "metadata": {},
   "outputs": [
    {
     "name": "stdout",
     "output_type": "stream",
     "text": [
      "{'Name': ['Daniel', 'John', 'Jane', 'Daniel'], 'Sex': ['male', 'male', 'female', 'male'], 'Treatement a': [0, 12, 24, 0], 'Treatement b': [42, 34, 27, 42]}\n"
     ]
    }
   ],
   "source": [
    "# Duplicate and Missing Data\n",
    "\n",
    " # 1. Can Skew Result.\n",
    " # 2. '.drop_duplicates() method'\n",
    "# -- Dictionary -- to -- Dataframe\n",
    "\n",
    "paitent2= {\"Name\":[\"Daniel\", \"John\", \"Jane\", \"Daniel\"],\n",
    "        \"Sex\":[\"male\",\"male\", \"female\", \"male\"],\n",
    "          \"Treatement a\":[ 0 ,12, 24, 0],\n",
    "          \"Treatement b\":[42, 34, 27, 42]}\n",
    "print(paitent2)\n"
   ]
  },
  {
   "cell_type": "code",
   "execution_count": 110,
   "metadata": {},
   "outputs": [
    {
     "name": "stdout",
     "output_type": "stream",
     "text": [
      "     Name     Sex  Treatement a  Treatement b\n",
      "0  Daniel    male             0            42\n",
      "1    John    male            12            34\n",
      "2    Jane  female            24            27\n",
      "3  Daniel    male             0            42\n"
     ]
    }
   ],
   "source": [
    "patient_2 = pd.DataFrame(paitent2)\n",
    "\n",
    "print(patient_2)"
   ]
  },
  {
   "cell_type": "code",
   "execution_count": null,
   "metadata": {},
   "outputs": [],
   "source": []
  }
 ],
 "metadata": {
  "kernelspec": {
   "display_name": "Python 3",
   "language": "python",
   "name": "python3"
  },
  "language_info": {
   "codemirror_mode": {
    "name": "ipython",
    "version": 3
   },
   "file_extension": ".py",
   "mimetype": "text/x-python",
   "name": "python",
   "nbconvert_exporter": "python",
   "pygments_lexer": "ipython3",
   "version": "3.7.4"
  }
 },
 "nbformat": 4,
 "nbformat_minor": 2
}
